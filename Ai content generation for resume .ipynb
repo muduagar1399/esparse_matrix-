{
 "cells": [
  {
   "cell_type": "code",
   "execution_count": null,
   "id": "38677201",
   "metadata": {},
   "outputs": [],
   "source": []
  },
  {
   "cell_type": "code",
   "execution_count": 23,
   "id": "c01489fc",
   "metadata": {},
   "outputs": [],
   "source": [
    "import warnings\n",
    "import fpdf\n",
    "from fpdf import FPDF\n",
    "from transformers import GPT2LMHeadModel, GPT2Tokenizer\n",
    "import warnings\n",
    "\n"
   ]
  },
  {
   "cell_type": "code",
   "execution_count": 24,
   "id": "f256eac7",
   "metadata": {},
   "outputs": [],
   "source": [
    "warnings.filterwarnings(\"ignore\")"
   ]
  },
  {
   "cell_type": "code",
   "execution_count": 25,
   "id": "c5ff1031",
   "metadata": {},
   "outputs": [
    {
     "name": "stdout",
     "output_type": "stream",
     "text": [
      "Enter your name: Vaidehi Agarwal \n",
      "Enter the desired job title: German \n"
     ]
    },
    {
     "name": "stderr",
     "output_type": "stream",
     "text": [
      "The attention mask and the pad token id were not set. As a consequence, you may observe unexpected behavior. Please pass your input's `attention_mask` to obtain reliable results.\n",
      "Setting `pad_token_id` to `eos_token_id`:50256 for open-end generation.\n",
      "The attention mask and the pad token id were not set. As a consequence, you may observe unexpected behavior. Please pass your input's `attention_mask` to obtain reliable results.\n",
      "Setting `pad_token_id` to `eos_token_id`:50256 for open-end generation.\n",
      "The attention mask and the pad token id were not set. As a consequence, you may observe unexpected behavior. Please pass your input's `attention_mask` to obtain reliable results.\n",
      "Setting `pad_token_id` to `eos_token_id`:50256 for open-end generation.\n",
      "The attention mask and the pad token id were not set. As a consequence, you may observe unexpected behavior. Please pass your input's `attention_mask` to obtain reliable results.\n",
      "Setting `pad_token_id` to `eos_token_id`:50256 for open-end generation.\n",
      "The attention mask and the pad token id were not set. As a consequence, you may observe unexpected behavior. Please pass your input's `attention_mask` to obtain reliable results.\n",
      "Setting `pad_token_id` to `eos_token_id`:50256 for open-end generation.\n"
     ]
    },
    {
     "name": "stdout",
     "output_type": "stream",
     "text": [
      "\n",
      "Generated Resume based on the name 'Vaidehi Agarwal ' and title 'German ':\n",
      "\n",
      "Summary:\n",
      "My name is Vaidehi Agarwal  and I am applying for the position of German.\n",
      "\n",
      "Summary:\n",
      ".\n",
      ", I have been applying to the German National Security Agency for over a year now. I was recently contacted by the NSA and asked to apply for a position. The NSA told me that I would be able to do so. They told my application that they would not be accepting my applications. After a few days, they told the agency that my name would have to be changed to \"Vasil\" and that it would take me a while to get my passport. This was a very stressful situation for me. My application was rejected. It was then that the government of Germany decided to take action against me and my family. In the end, the decision was made to remove me from the job. As a result, my job was terminated. However, after a short period of time, it was decided that this was not the right time to terminate my employment. So, in the last few months, we have had a lot of discussions with the authorities. We have also been contacted about the possibility of a new job for us. But, as I said before, this is not a good situation. Therefore, if you are interested in a job, please contact the National Cyber Security Center at (919) 822-9000. If you have any questions, you can contact us at: http://www.nsa.gov/~ns\n",
      "\n",
      "Experience:\n",
      "My name is Vaidehi Agarwal  and I am applying for the position of German.\n",
      "\n",
      "Experience:\n",
      ".\n",
      " (1) I have been working in the field of computer science for over 10 years. I was a student at the University of California, Berkeley. My first job was as a software engineer for a company called Google. In my first year, I worked on a project called \"Google's Web of Things\". I had a lot of fun working on it. The project was called the \"Web of Everything\".\n",
      ", and my second job as an engineer was at Google, where I developed a new product called WebKit. It was the first product I ever worked with. After that, my job at Microsoft was to develop the Internet of things. That was my last job. So, in my third year at that company, we started working together on the Web. We started to work on WebAssembly. And then, after that we worked together to create WebGL. Then, when we were working with Google on their Web API, they started developing WebDriver. Now, that was our last project. But, it was also our first project with Microsoft. They started building Webdriver. Finally, the last time we had any interaction with them was when they were developing the Windows Phone 8.1. This was in late 2011. When we got to the end of the project, Microsoft said, \"We're not going to do this anymore. You can\n",
      "\n",
      "Education:\n",
      "My name is Vaidehi Agarwal  and I am applying for the position of German.\n",
      "\n",
      "Education:\n",
      ".\n",
      ",\n",
      " (1) I have been studying for a year and am currently studying in the German language. I was born in India and have lived in Germany for over a decade. My parents were born and raised in Delhi and my father was a teacher in Berlin. In my first year of college I studied in a German university and then in my second year I went to the University of Berlin and studied at the Berlin Institute for Social Research. After that I moved to Berlin where I worked as a researcher for several years. During that time I also worked for various German companies and organizations. Since then I've been working for many companies in various countries and countries.\n",
      "\n",
      "\n",
      "I am a member of the European Parliament and the Council of Europe.\n",
      "\n",
      "Skills:\n",
      "My name is Vaidehi Agarwal  and I am applying for the position of German.\n",
      "\n",
      "Skills:\n",
      ".\n",
      " (1)\n",
      ",\n",
      ": I have been studying for a year and am currently studying in the German language. I want to apply for this position. Please send me your CV and your application details. You can also send a letter to me. If you are interested in this job, please send it to:. I will send you a copy of your resume and a link to your LinkedIn profile. The job is open to all applicants.\n",
      "\n",
      "\n",
      "(2)\n",
      "\n",
      ". (3) I'm a student at the University of Berlin. My name and address are:\n",
      "\n",
      " (a) V.A.V.I.S.E.R.D.,\n",
      "\n",
      "\n",
      ", V., V.-A.,\n",
      "\n",
      " and V-A.-V.,\n",
      " and\n",
      "\n",
      "\n",
      "\n",
      ".\n",
      "\n",
      ": (b) The position is for an individual who is interested to work in a research project. It is not for those who are not interested. In order to be considered for positions in research projects, you must have a PhD in German. This is a very important position for you. Your CV should be submitted to the relevant department. We will also ask you to send your name, address, and email address. All applicants must be able to read and write in English. For more information, see the following pages: http://www.diversity.de\n",
      "\n",
      "Projects:\n",
      "My name is Vaidehi Agarwal  and I am applying for the position of German.\n",
      "\n",
      "Projects:\n",
      ".\n",
      ", and. I have been working on a project for a few months now. I want to get my hands on the project and get it ready for release. The project is called \"The German Project\".\n",
      " (I am a German citizen and have lived in Germany for over 10 years. My name and address are: )\n",
      "- I'm a student at the University of Berlin. (My job is to write and write German for my students. ) I also have a degree in Computer Science from the university. In my spare time I write for various websites and blogs.\n",
      "\n",
      "Resume generated and saved as 'generated_resume.pdf'\n"
     ]
    }
   ],
   "source": [
    "from transformers import GPT2LMHeadModel, GPT2Tokenizer\n",
    "import warnings \n",
    "\n",
    "# Load pre-trained GPT-2 model and tokenizer\n",
    "model_name = 'gpt2'  # You can change to other GPT-2 variations if needed\n",
    "model = GPT2LMHeadModel.from_pretrained(model_name)\n",
    "tokenizer = GPT2Tokenizer.from_pretrained(model_name)\n",
    "\n",
    "# Function to generate content for each section based on the job title and name\n",
    "def generate_section_content(name, title, section_title, section_prompt, max_length):\n",
    "    input_text = \"My name is \" + name + \" and I am applying for the position of \" + title + \".\\n\\n\" + section_prompt\n",
    "    \n",
    "    # Generate text based on the job title and section prompt\n",
    "    input_ids = tokenizer.encode(input_text, return_tensors='pt')\n",
    "    output = model.generate(input_ids, max_length=max_length, num_return_sequences=1, no_repeat_ngram_size=2, temperature=0.7)\n",
    "\n",
    "    # Decode and return the generated text\n",
    "    generated_text = tokenizer.decode(output[0], skip_special_tokens=True)\n",
    "    return generated_text\n",
    "\n",
    "# Get the name and job title input from the user\n",
    "user_name = input(\"Enter your name: \")\n",
    "user_title = input(\"Enter the desired job title: \")\n",
    "\n",
    "# Generate content for each section\n",
    "sections = {\n",
    "    \"Summary\": \"Summary:\",\n",
    "    \"Experience\": \"Experience:\",\n",
    "    \"Education\": \"Education:\",\n",
    "    \"Skills\": \"Skills:\",\n",
    "    \"Projects\": \"Projects:\"\n",
    "}\n",
    "\n",
    "generated_resume = {}\n",
    "for section, prompt in sections.items():\n",
    "    section_content = generate_section_content(user_name, user_title, section, prompt, max_length=300)\n",
    "    generated_resume[section] = section_content\n",
    "\n",
    "# Display the generated resume section-wise\n",
    "print(\"\\nGenerated Resume based on the name '{}' and title '{}':\\n\".format(user_name, user_title))\n",
    "for section, content in generated_resume.items():\n",
    "    print(f\"{section}:\\n{content}\\n\")\n",
    "pdf = FPDF()\n",
    "pdf.set_auto_page_break(auto=True, margin=15)\n",
    "pdf.add_page()\n",
    "\n",
    "# Define font and font size\n",
    "pdf.set_font(\"Arial\", size=12)\n",
    "\n",
    "# Write content to PDF\n",
    "for section, content in generated_resume.items():\n",
    "    pdf.add_page()\n",
    "    pdf.cell(200, 10, txt=section, ln=True)\n",
    "    pdf.multi_cell(0, 10, txt=content)\n",
    "    pdf.ln()\n",
    "\n",
    "pdf.output(\"generated_resume.pdf\")\n",
    "print(\"Resume generated and saved as 'generated_resume.pdf'\")\n"
   ]
  },
  {
   "cell_type": "code",
   "execution_count": null,
   "id": "d11b4690",
   "metadata": {},
   "outputs": [],
   "source": [
    "\n"
   ]
  },
  {
   "cell_type": "code",
   "execution_count": null,
   "id": "f56cc5d4",
   "metadata": {},
   "outputs": [],
   "source": []
  },
  {
   "cell_type": "code",
   "execution_count": null,
   "id": "d24ff45c",
   "metadata": {},
   "outputs": [],
   "source": []
  },
  {
   "cell_type": "code",
   "execution_count": null,
   "id": "a988c156",
   "metadata": {},
   "outputs": [],
   "source": []
  }
 ],
 "metadata": {
  "kernelspec": {
   "display_name": "Python 3 (ipykernel)",
   "language": "python",
   "name": "python3"
  },
  "language_info": {
   "codemirror_mode": {
    "name": "ipython",
    "version": 3
   },
   "file_extension": ".py",
   "mimetype": "text/x-python",
   "name": "python",
   "nbconvert_exporter": "python",
   "pygments_lexer": "ipython3",
   "version": "3.9.7"
  }
 },
 "nbformat": 4,
 "nbformat_minor": 5
}
